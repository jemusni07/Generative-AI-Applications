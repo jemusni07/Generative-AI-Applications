{
 "cells": [
  {
   "cell_type": "markdown",
   "id": "95e541cc",
   "metadata": {},
   "source": [
    "## Multi Agentic Job Application Helper with CrewAI and OpenAI GPT-4"
   ]
  },
  {
   "cell_type": "code",
   "execution_count": null,
   "id": "28f2da37",
   "metadata": {},
   "outputs": [],
   "source": [
    "# pip install crewai==0.28.8 crewai_tools==0.1.6 langchain_community==0.0.29"
   ]
  },
  {
   "cell_type": "code",
   "execution_count": null,
   "id": "5e85308d",
   "metadata": {},
   "outputs": [],
   "source": [
    "# Warning control\n",
    "import warnings\n",
    "warnings.filterwarnings('ignore')"
   ]
  },
  {
   "cell_type": "code",
   "execution_count": null,
   "id": "55fb3d9f",
   "metadata": {},
   "outputs": [],
   "source": [
    "from job_posting_details import *"
   ]
  },
  {
   "cell_type": "code",
   "execution_count": null,
   "id": "43949c68",
   "metadata": {},
   "outputs": [],
   "source": [
    "job_posting_url"
   ]
  },
  {
   "cell_type": "code",
   "execution_count": null,
   "id": "fb37c832",
   "metadata": {},
   "outputs": [],
   "source": [
    "company_name "
   ]
  },
  {
   "cell_type": "code",
   "execution_count": null,
   "id": "62c5a96e",
   "metadata": {},
   "outputs": [],
   "source": [
    "job_role_name"
   ]
  },
  {
   "cell_type": "code",
   "execution_count": null,
   "id": "9cc3a4dd",
   "metadata": {},
   "outputs": [],
   "source": [
    "print(job_description)"
   ]
  },
  {
   "cell_type": "code",
   "execution_count": null,
   "id": "c10b34cb",
   "metadata": {},
   "outputs": [],
   "source": [
    "destination_folder = company_name + '/' + job_role_name\n",
    "destination_folder"
   ]
  },
  {
   "cell_type": "code",
   "execution_count": null,
   "id": "5cf26f12",
   "metadata": {},
   "outputs": [],
   "source": [
    "# save job description\n",
    "import os\n",
    "filename = destination_folder + '/job_description.txt'\n",
    "os.makedirs(os.path.dirname(filename), exist_ok=True)\n",
    "with open(filename, \"w\") as f:\n",
    "    f.write(job_description)"
   ]
  },
  {
   "cell_type": "markdown",
   "id": "e18f9f4d",
   "metadata": {},
   "source": [
    "### CREW AI AGENTS AND TASK"
   ]
  },
  {
   "cell_type": "code",
   "execution_count": null,
   "id": "3da53ffb",
   "metadata": {},
   "outputs": [],
   "source": [
    "from crewai import Agent, Task, Crew"
   ]
  },
  {
   "cell_type": "code",
   "execution_count": null,
   "id": "3ef027e9",
   "metadata": {},
   "outputs": [],
   "source": [
    "# AGENTS"
   ]
  },
  {
   "cell_type": "code",
   "execution_count": null,
   "id": "675eeb0a",
   "metadata": {},
   "outputs": [],
   "source": [
    "import os\n",
    "# from utils import get_openai_api_key, get_serper_api_key\n",
    "\n",
    "\n",
    "os.environ[\"OPENAI_MODEL_NAME\"] = 'gpt-4-turbo'\n",
    "os.environ[\"SERPER_API_KEY\"] = \"<SERPER_API_KEY>\"\n",
    "# sign up for serper api key here https://serper.dev/"
   ]
  },
  {
   "cell_type": "code",
   "execution_count": null,
   "id": "a052d886",
   "metadata": {},
   "outputs": [],
   "source": [
    "from crewai_tools import (\n",
    "  FileReadTool,\n",
    "  ScrapeWebsiteTool,\n",
    "  MDXSearchTool,\n",
    "  SerperDevTool\n",
    ")\n",
    "\n",
    "search_tool = SerperDevTool()\n",
    "scrape_tool = ScrapeWebsiteTool()\n",
    "read_resume = FileReadTool(file_path='./jonathan_musni_resume.md')\n",
    "semantic_search_resume = MDXSearchTool(mdx='./jonathan_musni_resume.md')"
   ]
  },
  {
   "cell_type": "code",
   "execution_count": null,
   "id": "94179c28",
   "metadata": {},
   "outputs": [],
   "source": [
    "# from IPython.display import Markdown, display\n",
    "# display(Markdown(\"./jonathan_musni_resume.md\"))"
   ]
  },
  {
   "cell_type": "markdown",
   "id": "27ad1c92",
   "metadata": {},
   "source": [
    "#### Agents"
   ]
  },
  {
   "cell_type": "code",
   "execution_count": null,
   "id": "e40b2c47",
   "metadata": {},
   "outputs": [],
   "source": [
    "from agent_parameters import *"
   ]
  },
  {
   "cell_type": "code",
   "execution_count": null,
   "id": "46a8d0ac",
   "metadata": {},
   "outputs": [],
   "source": [
    "# Agent 1: Researcher\n",
    "researcher = Agent(\n",
    "    role = \"Tech Job Researcher\",\n",
    "    goal = researcher_agent_goal,\n",
    "    verbose = True,\n",
    "    backstory = (researcher_agent_backstory)\n",
    ")\n",
    "\n",
    "# Agent 2: Profiler\n",
    "profiler = Agent(\n",
    "    role = \"Personal Profiler for Engineers\",\n",
    "    goal = profiler_agent_goal,\n",
    "#     tools = [scrape_tool, search_tool,\n",
    "#              read_resume, semantic_search_resume],\n",
    "#     tools = [read_resume, semantic_search_resume],\n",
    "    tools = [read_resume],\n",
    "\n",
    "    verbose = True,\n",
    "    backstory = (profiler_agent_backstory)\n",
    ")\n",
    "\n",
    "# Agent 3: Resume Strategist\n",
    "resume_strategist = Agent(\n",
    "    role = \"Resume Strategist for Engineers\",\n",
    "    goal = resume_strategist_agent_goal,\n",
    "#     tools = [read_resume, semantic_search_resume],\n",
    "    tools = [read_resume],\n",
    "\n",
    "    verbose = True,\n",
    "    backstory = (resume_strategist_agent_backstory)\n",
    ")\n",
    "\n",
    "# Agent 4: Quality Checker\n",
    "quality_checker = Agent(\n",
    "    role = \"Resume Honesty Checker\",\n",
    "    goal = quality_checker_agent_goal,\n",
    "#     tools = [read_resume, semantic_search_resume],\n",
    "    tools = [read_resume],\n",
    "    verbose = True,\n",
    "    backstory = (quality_checker_agent_backstory)\n",
    ")\n",
    "\n",
    "# Agent 5: Cover Letter Generator\n",
    "cover_letter_generator = Agent(\n",
    "    role = \"Cover Letter Generator\",\n",
    "    goal = cover_letter_generator_goal,\n",
    "#     tools = [read_resume, semantic_search_resume],\n",
    "    tools = [read_resume],\n",
    "    verbose = True,\n",
    "    backstory = (cover_letter_generator_backstory)\n",
    ")\n",
    "\n",
    "# Agent 6: Interview Preparer\n",
    "interview_preparer = Agent(\n",
    "    role = \"Engineering Interview Preparer\",\n",
    "    goal = interview_preparer_agent_goal,\n",
    "#     tools = [scrape_tool, search_tool,\n",
    "#              read_resume, semantic_search_resume],\n",
    "    tools = [scrape_tool, search_tool,\n",
    "             read_resume],\n",
    "    verbose = True,\n",
    "    backstory = (interview_preparer_agent_backstory)\n",
    ")"
   ]
  },
  {
   "cell_type": "markdown",
   "id": "e728ccf8",
   "metadata": {},
   "source": [
    "#### TASKS"
   ]
  },
  {
   "cell_type": "code",
   "execution_count": null,
   "id": "df15e8b2",
   "metadata": {},
   "outputs": [],
   "source": [
    "# Task for Researcher Agent: Extract Job Requirements\n",
    "research_task = Task(\n",
    "    description = (research_task_description),\n",
    "    expected_output = (research_task_expected_output),\n",
    "    agent = researcher,\n",
    "    async_execution = True\n",
    ")\n",
    "\n",
    "# Task for Profiler Agent: Compile Comprehensive Profile\n",
    "profile_task = Task(\n",
    "    description = (profiler_task_description),\n",
    "    expected_output = (profiler_task_expected_output),\n",
    "    agent = profiler,\n",
    "    async_execution = True\n",
    ")\n",
    "\n",
    "# Task for Resume Strategist Agent: Align Resume with Job Requirements\n",
    "resume_strategy_task = Task(\n",
    "    description = (resume_strategy_task_description),\n",
    "    expected_output = (resume_strategy_task_expected_output),\n",
    "    output_file = destination_folder + \"/tailored_resume_draft.md\",\n",
    "    context = [research_task, profile_task],\n",
    "    agent = resume_strategist\n",
    ")\n",
    "\n",
    "# Task for Quality Check Agent: Check for honesty and remove exaggerations\n",
    "quality_check_task = Task(\n",
    "    description = (quality_check_task_description),\n",
    "    expected_output = (quality_check_task_expected_output),\n",
    "    output_file = destination_folder + \"/tailored_resume_final.md\",\n",
    "    context = [research_task, profile_task,resume_strategy_task],\n",
    "    agent = quality_checker\n",
    ")\n",
    "\n",
    "# Task for Cover Letter Agent: Generate a cover letter\n",
    "cover_letter_task = Task(\n",
    "    description = (cover_letter_task_description),\n",
    "    expected_output = (cover_letter_task_expected_output),\n",
    "    output_file = destination_folder + \"/cover_letter.md\",\n",
    "    context = [research_task, profile_task, resume_strategy_task, quality_check_task],\n",
    "    agent = cover_letter_generator\n",
    ")\n",
    "\n",
    "# Task for Interview Preparer Agent: Develop Interview Materials\n",
    "interview_preparation_task = Task(\n",
    "    description = (interview_preparation_task_description),\n",
    "    expected_output = (interview_preparation_task_expected_output),\n",
    "    output_file = destination_folder + \"/interview_materials.md\",\n",
    "    context = [research_task, profile_task, resume_strategy_task, quality_check_task],\n",
    "    agent = interview_preparer\n",
    ")\n"
   ]
  },
  {
   "cell_type": "code",
   "execution_count": null,
   "id": "5a8c3f3e",
   "metadata": {},
   "outputs": [],
   "source": [
    "job_application_crew = Crew(\n",
    "    agents = [researcher,\n",
    "            profiler,\n",
    "            resume_strategist,\n",
    "            quality_checker,\n",
    "            cover_letter_generator,\n",
    "            interview_preparer],\n",
    "\n",
    "    tasks = [research_task,\n",
    "           profile_task,\n",
    "           resume_strategy_task,\n",
    "           quality_check_task,\n",
    "#            revision_details_task,\n",
    "           interview_preparation_task,\n",
    "           cover_letter_task],\n",
    "\n",
    "    verbose=True\n",
    ")"
   ]
  },
  {
   "cell_type": "code",
   "execution_count": null,
   "id": "035fe573",
   "metadata": {},
   "outputs": [],
   "source": [
    "job_application_inputs = {\n",
    "    'job_description': job_description,\n",
    "    'cover_letter_inputs' : cover_letter_inputs,\n",
    "    'personal_writeup': personal_writeup\n",
    "}"
   ]
  },
  {
   "cell_type": "code",
   "execution_count": null,
   "id": "12477981",
   "metadata": {},
   "outputs": [],
   "source": [
    "### this execution will take a few minutes to run\n",
    "result = job_application_crew.kickoff(inputs=job_application_inputs)"
   ]
  },
  {
   "cell_type": "code",
   "execution_count": null,
   "id": "45533d9e",
   "metadata": {
    "scrolled": false
   },
   "outputs": [],
   "source": [
    "from IPython.display import Markdown, display\n",
    "display(Markdown(destination_folder + \"/tailored_resume_draft.md\"))"
   ]
  },
  {
   "cell_type": "code",
   "execution_count": null,
   "id": "1bc5b43e",
   "metadata": {
    "scrolled": false
   },
   "outputs": [],
   "source": [
    "from IPython.display import Markdown, display\n",
    "display(Markdown(destination_folder + \"/tailored_resume_final.md\"))"
   ]
  }
 ],
 "metadata": {
  "kernelspec": {
   "display_name": "Python 3 (ipykernel)",
   "language": "python",
   "name": "python3"
  },
  "language_info": {
   "codemirror_mode": {
    "name": "ipython",
    "version": 3
   },
   "file_extension": ".py",
   "mimetype": "text/x-python",
   "name": "python",
   "nbconvert_exporter": "python",
   "pygments_lexer": "ipython3",
   "version": "3.11.8"
  }
 },
 "nbformat": 4,
 "nbformat_minor": 5
}
